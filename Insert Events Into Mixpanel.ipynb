{
 "cells": [
  {
   "cell_type": "markdown",
   "metadata": {},
   "source": [
    "## Inserting Events Data Into Mixpanel via Txt File"
   ]
  },
  {
   "cell_type": "code",
   "execution_count": null,
   "metadata": {},
   "outputs": [],
   "source": [
    "from mixpanel_utils import MixpanelUtils\n",
    "if __name__ == '__main__':\n",
    "    \n",
    "    credentials = {'API_secret': 'XXX','token': 'YYY',}\n",
    "    m = MixpanelUtils(credentials['API_secret'])\n",
    "    i = MixpanelUtils(credentials['API_secret'],credentials['token'])\n",
    "    i.import_events('https://github.com/cdevairakkam7/Mixpanel/blob/main/event_input.txt', timezone_offset=0)"
   ]
  }
 ],
 "metadata": {
  "kernelspec": {
   "display_name": "Python 3",
   "language": "python",
   "name": "python3"
  },
  "language_info": {
   "codemirror_mode": {
    "name": "ipython",
    "version": 3
   },
   "file_extension": ".py",
   "mimetype": "text/x-python",
   "name": "python",
   "nbconvert_exporter": "python",
   "pygments_lexer": "ipython3",
   "version": "3.8.5"
  }
 },
 "nbformat": 4,
 "nbformat_minor": 4
}
